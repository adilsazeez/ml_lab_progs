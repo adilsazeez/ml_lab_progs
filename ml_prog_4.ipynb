{
 "cells": [
  {
   "cell_type": "code",
   "execution_count": 2,
   "metadata": {},
   "outputs": [
    {
     "name": "stdout",
     "output_type": "stream",
     "text": [
      "Normalized Input: \n",
      " [[0.5        1.        ]\n",
      " [0.75       0.66666667]\n",
      " [1.         0.88888889]]\n",
      "Actual Output: \n",
      " [[0.92]\n",
      " [0.86]\n",
      " [0.89]]\n",
      "Predicted Output: \n",
      " [[0.8897162 ]\n",
      " [0.88702018]\n",
      " [0.89249362]]\n"
     ]
    }
   ],
   "source": [
    "import numpy as np # numpy is commonly used to process number array\n",
    "X = np.array([[2,9], [3,6], [4,8]]) # Features ( Hrs Slept, Hrs Studied)\n",
    "y = np.array([[92], [86], [89]]) # Labels(Marks obtained)\n",
    "X = X/np.amax(X,axis=0) # Normalize\n",
    "y = y/100\n",
    "\n",
    "def sigmoid(x):\n",
    "    return 1/(1 + np.exp(-x))\n",
    "\n",
    "def sigmoid_grad(x):\n",
    "    return x * (1 - x)\n",
    "\n",
    "# Variable initialization\n",
    "epoch=1000 #Setting training iterations\n",
    "eta =0.1 #Setting learning rate (eta)\n",
    "input_neurons = 2 #number of features in data set\n",
    "hidden_neurons = 3 #number of hidden layers neurons\n",
    "output_neurons = 1 #number of neurons at output layer\n",
    "# Weight and bias - Random initialization\n",
    "wh=np.random.uniform(size=(input_neurons,hidden_neurons)) # 2x3\n",
    "bh=np.random.uniform(size=(1,hidden_neurons)) # 1x3\n",
    "wout=np.random.uniform(size=(hidden_neurons,output_neurons)) # 1x1\n",
    "bout=np.random.uniform(size=(1,output_neurons))\n",
    "\n",
    "\n",
    "for i in range(epoch):#Forward Propogation\n",
    "    h_ip=np.dot(X,wh) + bh # Dot product + bias\n",
    "    h_act = sigmoid(h_ip) # Activation function\n",
    "    o_ip=np.dot(h_act,wout) + bout\n",
    "    output = sigmoid(o_ip)# Error at Output layer\n",
    "    Eo = y-output # Error at o/p\n",
    "    outgrad = sigmoid_grad(output)\n",
    "    d_output = Eo* outgrad # Errj=Oj(1-Oj)(Tj-Oj)\n",
    "# Error at Hidden later\n",
    "    Eh = np.dot(d_output,wout.T) # .T means transpose\n",
    "    hiddengrad = sigmoid_grad(h_act) # How much hidden layer wts contributed to error\n",
    "    d_hidden = Eh * hiddengrad\n",
    "    wout += np.dot(h_act.T,d_output) *eta # Dotproduct of nextlayererror and currentlayerop\n",
    "    wh += np.dot(X.T,d_hidden) *eta\n",
    "print(\"Normalized Input: \\n\" ,X)\n",
    "print(\"Actual Output: \\n\" ,y)\n",
    "print(\"Predicted Output: \\n\" ,output)\n"
   ]
  }
 ],
 "metadata": {
  "kernelspec": {
   "display_name": "Python 3",
   "language": "python",
   "name": "python3"
  },
  "language_info": {
   "codemirror_mode": {
    "name": "ipython",
    "version": 3
   },
   "file_extension": ".py",
   "mimetype": "text/x-python",
   "name": "python",
   "nbconvert_exporter": "python",
   "pygments_lexer": "ipython3",
   "version": "3.7.6"
  }
 },
 "nbformat": 4,
 "nbformat_minor": 4
}
