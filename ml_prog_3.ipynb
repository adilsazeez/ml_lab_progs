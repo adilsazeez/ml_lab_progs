{
 "cells": [
  {
   "cell_type": "code",
   "execution_count": 2,
   "metadata": {},
   "outputs": [
    {
     "name": "stdout",
     "output_type": "stream",
     "text": [
      "     Outlook Temperature Humidity    Wind PlayTennis\n",
      "0      Sunny         Hot     High    Weak         No\n",
      "1      Sunny         Hot     High  Strong         No\n",
      "2   Overcast         Hot     High    Weak        Yes\n",
      "3       Rain        Mild     High    Weak        Yes\n",
      "4       Rain        Cool   Normal    Weak        Yes\n",
      "5       Rain        Cool   Normal  Strong         No\n",
      "6   Overcast        Cool   Normal  Strong        Yes\n",
      "8      Sunny        Cool   Normal    Weak        Yes\n",
      "9       Rain        Mild   Normal    Weak        Yes\n",
      "10     Sunny        Mild   Normal  Strong        Yes\n",
      "11  Overcast        Mild     High  Strong        Yes\n",
      "12  Overcast         Hot   Normal    Weak        Yes\n",
      "13      Rain        Mild     High  Strong         No\n",
      "{'Outlook': {'Overcast': 'Yes', 'Rain': {'Wind': {'Strong': 'No', 'Weak': 'Yes'}}, 'Sunny': {'Temperature': {'Cool': 'Yes', 'Hot': 'No', 'Mild': 'Yes'}}}}\n",
      "{'Outlook': 'Sunny', 'Temperature': 'Mild', 'Humidity': 'High', 'Wind': 'Weak', 'PlayTennis': 'No'} => No\n"
     ]
    }
   ],
   "source": [
    "import numpy as np\n",
    "import pandas as pd\n",
    "def entropy(target_col):\n",
    "    val,counts = np.unique(target_col,return_counts = True)\n",
    "    ent = sum( (-counts[i]/np.sum(counts)) * np.log2( counts[i]/np.sum(counts) )\n",
    "    for i in range(len(val)))\n",
    "    return ent\n",
    "\n",
    "def infoGain(data,features,target):\n",
    "    te = entropy(data[target])\n",
    "    val,counts = np.unique(data[features],return_counts = True)\n",
    "    eg = sum((counts[i]/sum(counts)) * entropy(data[data[features] == val[i]][target] )\n",
    "             for i in range(len(val)))\n",
    "    InfoGain = te-eg\n",
    "    return InfoGain\n",
    "\n",
    "def ID3(data,features,target,pnode):\n",
    "    if len(np.unique(data[target])) == 1:\n",
    "        return np.unique(data[target])[0]\n",
    "    elif len(features) == 0:\n",
    "        return pnode\n",
    "    else:\n",
    "        pnode = np.unique(data[target])[np.argmax(np.unique(data[target])[1])]\n",
    "        IG = [infoGain(data,f,target) for f in features]\n",
    "        index = np.argmax(IG)\n",
    "        col = features[index]\n",
    "        tree = {col:{}}\n",
    "        features = [f for f in features if f!=col]\n",
    "        for val in np.unique(data[col]):\n",
    "            sub_data = data[data[col]==val].dropna()\n",
    "            subtree = ID3(sub_data,features,target,pnode)\n",
    "            tree[col][val] = subtree\n",
    "        return tree\n",
    "data = pd.read_csv('PlayTennis.csv')\n",
    "testData = data.sample(frac = 0.1)\n",
    "data.drop(testData.index,inplace = True)\n",
    "print(data)\n",
    "target = 'PlayTennis'\n",
    "features = data.columns[data.columns!=target]\n",
    "tree = ID3(data,features,target,None)\n",
    "print (tree)\n",
    "test = testData.to_dict('records')[0]\n",
    "print(test,'=>', test['PlayTennis'])\n"
   ]
  }
 ],
 "metadata": {
  "kernelspec": {
   "display_name": "Python 3",
   "language": "python",
   "name": "python3"
  },
  "language_info": {
   "codemirror_mode": {
    "name": "ipython",
    "version": 3
   },
   "file_extension": ".py",
   "mimetype": "text/x-python",
   "name": "python",
   "nbconvert_exporter": "python",
   "pygments_lexer": "ipython3",
   "version": "3.7.6"
  }
 },
 "nbformat": 4,
 "nbformat_minor": 4
}
